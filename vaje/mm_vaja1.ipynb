{
 "cells": [
  {
   "cell_type": "markdown",
   "metadata": {},
   "source": [
    "# Vaja\n",
    "Za matriko \n",
    "$$ A=\n",
    "\\begin{bmatrix}\n",
    "−1 & 1 & 1 & −1\\\\\n",
    "1 & −1 & −1 &  1\\\\\n",
    "2 & −2 & 2 & −2\n",
    "\\end{bmatrix}\n",
    "$$\n",
    "poišči poslošeni inverz (matriko $G$, za katero je $AGA=A$)."
   ]
  },
  {
   "cell_type": "markdown",
   "metadata": {},
   "source": [
    "## Rešitev\n",
    "1. izračunamo rang matrike $A$. \n",
    "2. v $A$ poiščemo neizrojeno $r\\times r$ podmatriko $M$\n",
    "3. v $A$ nadomestimo $M$ z $(M^{-1})^T$\n",
    "4. vse ostale elemente v $A$ postavimo na $0$\n",
    "5. dobljeno matriko transponiramo"
   ]
  },
  {
   "cell_type": "code",
   "execution_count": 1,
   "metadata": {
    "collapsed": false
   },
   "outputs": [
    {
     "data": {
      "text/plain": [
       "ans =\r\n",
       "\r\n",
       "   1  -1   0   0\r\n",
       "   0   0   1  -1\r\n",
       "   0   0   0   0\r\n",
       "\r\n"
      ]
     },
     "execution_count": 1,
     "metadata": {},
     "output_type": "execute_result"
    }
   ],
   "source": [
    "A=[-1 1 1 -1; 1 -1 -1 1; 2 -2 2 -2];\n",
    "% poiščemo rang in neizrojeno podmatriko\n",
    "rref(A)"
   ]
  },
  {
   "cell_type": "code",
   "execution_count": 6,
   "metadata": {
    "collapsed": false
   },
   "outputs": [
    {
     "data": {
      "text/plain": [
       "ans = -4\r\n"
      ]
     },
     "execution_count": 6,
     "metadata": {},
     "output_type": "execute_result"
    }
   ],
   "source": [
    "% neizrojena podmatrika\n",
    "im = [1,3];\n",
    "in = [1,3];\n",
    "det(A(im,in))"
   ]
  },
  {
   "cell_type": "code",
   "execution_count": 9,
   "metadata": {
    "collapsed": false
   },
   "outputs": [
    {
     "data": {
      "text/plain": [
       "G =\r\n",
       "\r\n",
       "  -0.50000   0.00000   0.25000\r\n",
       "   0.00000   0.00000   0.00000\r\n",
       "   0.50000   0.00000   0.25000\r\n",
       "   0.00000   0.00000   0.00000\r\n",
       "\r\n"
      ]
     },
     "execution_count": 9,
     "metadata": {},
     "output_type": "execute_result"
    }
   ],
   "source": [
    "G = zeros(size(A));\n",
    "G(im,in) = inv(A(im,in))';\n",
    "G = G'"
   ]
  },
  {
   "cell_type": "code",
   "execution_count": 10,
   "metadata": {
    "collapsed": false
   },
   "outputs": [
    {
     "data": {
      "text/plain": [
       "ans =\r\n",
       "\r\n",
       "  -1   1   1  -1\r\n",
       "   1  -1  -1   1\r\n",
       "   2  -2   2  -2\r\n",
       "\r\n"
      ]
     },
     "execution_count": 10,
     "metadata": {},
     "output_type": "execute_result"
    }
   ],
   "source": [
    "% preverimo, da je G res posplošeni inverz\n",
    "A*G*A"
   ]
  },
  {
   "cell_type": "markdown",
   "metadata": {},
   "source": [
    "##Vaja 2. del\n",
    "Ali je sistem $Ax=b$ rešljiv za \n",
    "$b=[0, 4, -4]$? Če ni, poišči projekcijo $b'$ vektorja $b$ na stolpčni prostor $C(A)$ in zapiši vse rešitve sistema $Ax=b'$.\n",
    "##Rešitev\n",
    "\n",
    "Projekcijo na podprostor lahko izračunamo s pomočjo normalnega sistema. To deluje le, če je matrika $A$ polnega ranga. V našem primeru je rang enak $2$, zato namesto cele matrike $A$ vzamemo podmatriko $B$ ranga $2$. Ker želimo projecirati na stolpčni prostor $C(A)$, za stolpce nove matrike uporabimo bazo $C(A)$, torej dva linearno neodvisna stolpca $A$. \n",
    "1. Projekcija $b'$ mora biti element $C(A)=C(B)$, zato jo lahko zapišemo kot $b'=Bx$\n",
    "2. ker je projekcija pravokotna, mora biti razlika $b-b'\\perp C(B)$, kar pomeni, da je $B^T(b-b')=0$.\n",
    "3. iz enačbe $B^T(b-b')=B^T(b-Bx)=0$ izpeljemo normalni sistem\n",
    "$$B^TBx=B^Tb$$\n",
    "4. Projekcija $b'=Bx$, kjer je $x$ rešitev normalnega sistema. "
   ]
  },
  {
   "cell_type": "code",
   "execution_count": 12,
   "metadata": {
    "collapsed": false
   },
   "outputs": [
    {
     "data": {
      "text/plain": [
       "B =\r\n",
       "\r\n",
       "  -1   1\r\n",
       "   1  -1\r\n",
       "   2   2\r\n",
       "\r\n"
      ]
     },
     "execution_count": 12,
     "metadata": {},
     "output_type": "execute_result"
    }
   ],
   "source": [
    "b=[0;4;-4];\n",
    "% izberemo dva stolpca, ki sta linearno neodvisna\n",
    "B=A(:,[1,3])"
   ]
  },
  {
   "cell_type": "code",
   "execution_count": 13,
   "metadata": {
    "collapsed": false
   },
   "outputs": [
    {
     "data": {
      "text/plain": [
       "b1 =\r\n",
       "\r\n",
       "  -2\r\n",
       "   2\r\n",
       "  -4\r\n",
       "\r\n"
      ]
     },
     "execution_count": 13,
     "metadata": {},
     "output_type": "execute_result"
    }
   ],
   "source": [
    "% rešimo normalni sistem in poiščemo projekcijo\n",
    "x = (B'*B)\\(B'*b);\n",
    "b1 = B*x"
   ]
  },
  {
   "cell_type": "markdown",
   "metadata": {},
   "source": [
    "Vse rešitve sistema $Ax=b'$ lahko dobimo s poslošenim inverzom $G$ kot\n",
    "$$ x = Gb'+ (GA - I)z$$\n",
    "kjer je $z$ poljuben $z\\in\\mathbb{R}^4$. Dimenzija množice rešitev je enaka dimenziji stolpčnega prostora matrike $GA-I$."
   ]
  },
  {
   "cell_type": "code",
   "execution_count": 15,
   "metadata": {
    "collapsed": false
   },
   "outputs": [
    {
     "data": {
      "text/plain": [
       "ans =\r\n",
       "\r\n",
       "   0  -1   0   0\r\n",
       "   0  -1   0   0\r\n",
       "   0   0   0  -1\r\n",
       "   0   0   0  -1\r\n",
       "\r\n"
      ]
     },
     "execution_count": 15,
     "metadata": {},
     "output_type": "execute_result"
    }
   ],
   "source": [
    "G*A-eye(4)"
   ]
  },
  {
   "cell_type": "code",
   "execution_count": 16,
   "metadata": {
    "collapsed": false
   },
   "outputs": [
    {
     "data": {
      "text/plain": [
       "ans =\r\n",
       "\r\n",
       "   0\r\n",
       "   0\r\n",
       "  -2\r\n",
       "   0\r\n",
       "\r\n"
      ]
     },
     "execution_count": 16,
     "metadata": {},
     "output_type": "execute_result"
    }
   ],
   "source": [
    "G*b1"
   ]
  },
  {
   "cell_type": "markdown",
   "metadata": {},
   "source": [
    "Rešitve sistema lahko zapišemo v parametrični obliki\n",
    "$$ x = \\begin{bmatrix}\\alpha \\\\ \\alpha \\\\ -2+\\beta\\\\ \\beta \\end{bmatrix}$$ "
   ]
  },
  {
   "cell_type": "markdown",
   "metadata": {},
   "source": [
    "## Vaja 3. del\n",
    "Poišči tisti vektor $x \\in \\mathbb{R}^4$, za katerega velja, da sta normi $\\|Ax − b\\|$ in $\\|x\\|$\n",
    "najmanjši možni.\n",
    "## Rešitev\n",
    "Norma $\\|Ax-b\\|$ bo minimalna za vse rešitve sistme $Ax=b'$, zato moramo poiskati vektor $x$ oblike $x=[\\alpha,\\alpha,-2+\\beta,\\beta]^T$ z najmanjšo normo. Norma $\\|x\\|$ je funkcija parametrov $\\alpha$ in $\\beta$\n",
    "$$\\|x\\|^2 = \\alpha^2+\\alpha^2+(\\beta-2)^2+\\beta^2.$$\n",
    "Za minimum\n",
    "1. je očitno $\\alpha=0$ \n",
    "2. in $(\\beta-2)^2+\\beta^2$ minimalen.\n",
    " * minimum je v stacionarni točki: $2(\\beta-2)+2\\beta=4\\beta-4=0$\n",
    " * in $\\beta=1$\n",
    "\n",
    "Rešitev je ena sama in sicer vektor $$x=\\begin{bmatrix}0\\\\ 0\\\\ -1\\\\ 1\\end{bmatrix}.$$"
   ]
  }
 ],
 "metadata": {
  "kernelspec": {
   "display_name": "Octave",
   "language": "octave",
   "name": "octave_kernel"
  },
  "language_info": {
   "file_extension": ".m",
   "help_links": [
    {
     "text": "MetaKernel Magics",
     "url": "https://github.com/calysto/metakernel/blob/master/metakernel/magics/README.md"
    }
   ],
   "mimetype": "text/x-octave",
   "name": "octave_kernel"
  }
 },
 "nbformat": 4,
 "nbformat_minor": 0
}
